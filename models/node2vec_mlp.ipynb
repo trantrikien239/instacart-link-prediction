{
  "nbformat": 4,
  "nbformat_minor": 0,
  "metadata": {
    "colab": {
      "provenance": []
    },
    "kernelspec": {
      "name": "python3",
      "display_name": "Python 3"
    },
    "language_info": {
      "name": "python"
    },
    "accelerator": "GPU",
    "gpuClass": "standard"
  },
  "cells": [
    {
      "cell_type": "markdown",
      "source": [
        "# Load the Instacart dataset"
      ],
      "metadata": {
        "id": "5eX-QRlp4bRE"
      }
    },
    {
      "cell_type": "code",
      "source": [
        "import os\n",
        "import torch\n",
        "os.environ['TORCH'] = torch.__version__\n",
        "print(torch.__version__)"
      ],
      "metadata": {
        "colab": {
          "base_uri": "https://localhost:8080/"
        },
        "id": "ufa4DPPW4mQD",
        "outputId": "0669cda2-5e9d-4211-98f9-f7f62d931c7d"
      },
      "execution_count": 1,
      "outputs": [
        {
          "output_type": "stream",
          "name": "stdout",
          "text": [
            "2.0.0+cu118\n"
          ]
        }
      ]
    },
    {
      "cell_type": "code",
      "source": [
        "!pip install -q torch-scatter -f https://data.pyg.org/whl/torch-${TORCH}.html\n",
        "!pip install -q torch-sparse -f https://data.pyg.org/whl/torch-${TORCH}.html\n",
        "!pip install -q torch-cluster -f https://data.pyg.org/whl/torch-${TORCH}.html\n",
        "!pip install -q git+https://github.com/pyg-team/pytorch_geometric.git"
      ],
      "metadata": {
        "colab": {
          "base_uri": "https://localhost:8080/"
        },
        "id": "NRKxATBI4pFS",
        "outputId": "49d7a466-7662-40a9-91ae-3ef248b8ef03"
      },
      "execution_count": 2,
      "outputs": [
        {
          "output_type": "stream",
          "name": "stdout",
          "text": [
            "\u001b[2K     \u001b[90m━━━━━━━━━━━━━━━━━━━━━━━━━━━━━━━━━━━━━━━━\u001b[0m \u001b[32m10.2/10.2 MB\u001b[0m \u001b[31m32.0 MB/s\u001b[0m eta \u001b[36m0:00:00\u001b[0m\n",
            "\u001b[2K     \u001b[90m━━━━━━━━━━━━━━━━━━━━━━━━━━━━━━━━━━━━━━━━\u001b[0m \u001b[32m4.8/4.8 MB\u001b[0m \u001b[31m23.5 MB/s\u001b[0m eta \u001b[36m0:00:00\u001b[0m\n",
            "\u001b[2K     \u001b[90m━━━━━━━━━━━━━━━━━━━━━━━━━━━━━━━━━━━━━━━━\u001b[0m \u001b[32m3.3/3.3 MB\u001b[0m \u001b[31m45.6 MB/s\u001b[0m eta \u001b[36m0:00:00\u001b[0m\n",
            "\u001b[?25h  Installing build dependencies ... \u001b[?25l\u001b[?25hdone\n",
            "  Getting requirements to build wheel ... \u001b[?25l\u001b[?25hdone\n",
            "  Preparing metadata (pyproject.toml) ... \u001b[?25l\u001b[?25hdone\n",
            "  Building wheel for torch_geometric (pyproject.toml) ... \u001b[?25l\u001b[?25hdone\n"
          ]
        }
      ]
    },
    {
      "cell_type": "code",
      "source": [
        "import networkx as nx\n",
        "import torch\n",
        "from torch_geometric.data import Data\n",
        "from torch_geometric.loader import DataLoader\n",
        "import pandas as pd"
      ],
      "metadata": {
        "id": "D5jTRoE_4gaa"
      },
      "execution_count": 3,
      "outputs": []
    },
    {
      "cell_type": "code",
      "source": [
        "train_e = pd.read_parquet('train_labels_neg.parquet')\n",
        "val_e = pd.read_parquet('val_labels_neg.parquet')\n",
        "test_e = pd.read_parquet('test_labels_neg.parquet')"
      ],
      "metadata": {
        "id": "WpBz0Shgws0I"
      },
      "execution_count": 4,
      "outputs": []
    },
    {
      "cell_type": "code",
      "source": [
        "print(len(train_e))\n",
        "print(len(val_e))\n",
        "print(len(test_e))"
      ],
      "metadata": {
        "colab": {
          "base_uri": "https://localhost:8080/"
        },
        "id": "KcPg9Rriwz12",
        "outputId": "e8079394-1036-4f1c-8b06-9d73e734946e"
      },
      "execution_count": 5,
      "outputs": [
        {
          "output_type": "stream",
          "name": "stdout",
          "text": [
            "661052\n",
            "661678\n",
            "656406\n"
          ]
        }
      ]
    },
    {
      "cell_type": "code",
      "source": [
        "# retrive the existing edges for node2vec training\n",
        "pos_train_edge = train_e[train_e['label']==1]\n",
        "print(len(pos_train_edge))\n",
        "pos_val_edge = val_e[val_e['label']==1]\n",
        "print(len(pos_val_edge))\n",
        "pos_test_edge = test_e[test_e['label']==1]\n",
        "print(len(pos_test_edge))\n",
        "\n",
        "#pos_edge = pd.concat([pos_train_edge, pos_val_edge], ignore_index=True)\n",
        "pos_edge = pos_train_edge\n",
        "print(len(pos_edge))"
      ],
      "metadata": {
        "colab": {
          "base_uri": "https://localhost:8080/"
        },
        "id": "cL8KyvAMYM1e",
        "outputId": "38bbee5a-eb81-4770-9cc2-8dbfdc126052"
      },
      "execution_count": 6,
      "outputs": [
        {
          "output_type": "stream",
          "name": "stdout",
          "text": [
            "330526\n",
            "330839\n",
            "328203\n",
            "330526\n"
          ]
        }
      ]
    },
    {
      "cell_type": "code",
      "source": [
        "class BipartiteData(Data):\n",
        "    def __init__(self, edge_index=None, x_s=None, x_t=None):\n",
        "        super().__init__()\n",
        "        self.edge_index = edge_index\n",
        "        self.x_s = x_s\n",
        "        self.x_t = x_t\n",
        "    \n",
        "    def __inc__(self, key, value, *args, **kwargs):\n",
        "        if key == 'edge_index':\n",
        "            return torch.tensor([[self.x_s.size(0)], [self.x_t.size(0)]])\n",
        "        else:\n",
        "            return super().__inc__(key, value, *args, **kwargs)"
      ],
      "metadata": {
        "id": "VhEl1vKJ443J"
      },
      "execution_count": 7,
      "outputs": []
    },
    {
      "cell_type": "code",
      "source": [
        "pos_edge_idx = pos_edge.loc[:, [\"user_id\", \"product_id\"]].to_numpy().T\n",
        "pos_edge_data=BipartiteData(edge_index=pos_edge_idx)\n",
        "# convert the edge_index into tensor\n",
        "pos_edge_data.edge_index = torch.from_numpy(pos_edge_data.edge_index)"
      ],
      "metadata": {
        "id": "zoVNFY8y5F5f"
      },
      "execution_count": 8,
      "outputs": []
    },
    {
      "cell_type": "code",
      "source": [
        "print(pos_edge_data.edge_index)\n",
        "print(pos_edge_data.edge_index.shape)"
      ],
      "metadata": {
        "colab": {
          "base_uri": "https://localhost:8080/"
        },
        "id": "e-3UOMia5fyL",
        "outputId": "7aad00f9-4a56-4f97-f2df-89c8d0107a11"
      },
      "execution_count": 9,
      "outputs": [
        {
          "output_type": "stream",
          "name": "stdout",
          "text": [
            "tensor([[     1,      1,      2,  ..., 206206, 206209, 206209],\n",
            "        [ 46149,  49235,  12258,  ...,  16896,  48370,  40310]])\n",
            "torch.Size([2, 330526])\n"
          ]
        }
      ]
    },
    {
      "cell_type": "markdown",
      "source": [
        "# Node2Vec embedding"
      ],
      "metadata": {
        "id": "DOwcWyet5vY1"
      }
    },
    {
      "cell_type": "code",
      "source": [
        "# import library\n",
        "from torch_geometric.nn import Node2Vec\n",
        "import torch_geometric.utils\n",
        "import os.path as osp\n",
        "from tqdm.notebook import tqdm\n",
        "import matplotlib.pyplot as plt\n",
        "import numpy as np\n",
        "# check if cuda is available to send the model and tensors to the GPU\n",
        "device = 'cuda' if torch.cuda.is_available() else 'cpu'"
      ],
      "metadata": {
        "id": "SgGd_jU45zsz"
      },
      "execution_count": 10,
      "outputs": []
    },
    {
      "cell_type": "code",
      "source": [
        "model = Node2Vec(pos_edge_data.edge_index, embedding_dim=128, walk_length=20,\n",
        "                 context_size=10, walks_per_node=10,\n",
        "                 num_negative_samples=1, p=1, q=1, sparse=True).to(device)\n",
        "\n",
        "loader = model.loader(batch_size=128, shuffle=True, num_workers=2)  # data loader to speed the train \n",
        "optimizer = torch.optim.SparseAdam(list(model.parameters()), lr=0.01)  # initzialize the optimizer "
      ],
      "metadata": {
        "id": "vZNgdIRX5x1s"
      },
      "execution_count": 11,
      "outputs": []
    },
    {
      "cell_type": "code",
      "source": [
        "def train():\n",
        "    model.train() # put model in the train model\n",
        "    total_loss = 0\n",
        "    for pos_rw, neg_rw in loader:\n",
        "        optimizer.zero_grad() # set the gradient to zero\n",
        "        loss = model.loss(pos_rw.to(device), neg_rw.to(device)) # compute the loss for the batch\n",
        "        loss.backward()\n",
        "        optimizer.step() # optimize the parameters\n",
        "        total_loss += loss.item()\n",
        "    return total_loss / len(loader)\n",
        "\n",
        "\n",
        "for epoch in range(1, 101):\n",
        "    loss = train()\n",
        "    if epoch % 10 == 0:\n",
        "        print(f'Epoch: {epoch:02d}, Loss: {loss:.4f}')"
      ],
      "metadata": {
        "colab": {
          "base_uri": "https://localhost:8080/"
        },
        "id": "y9ltRWAg7h6c",
        "outputId": "dec8275e-146b-439c-d30f-3d4372e40f6f"
      },
      "execution_count": 12,
      "outputs": [
        {
          "output_type": "stream",
          "name": "stdout",
          "text": [
            "Epoch: 10, Loss: 0.7298\n",
            "Epoch: 20, Loss: 0.7308\n",
            "Epoch: 30, Loss: 0.7319\n",
            "Epoch: 40, Loss: 0.7320\n",
            "Epoch: 50, Loss: 0.7318\n",
            "Epoch: 60, Loss: 0.7318\n",
            "Epoch: 70, Loss: 0.7317\n",
            "Epoch: 80, Loss: 0.7316\n",
            "Epoch: 90, Loss: 0.7316\n",
            "Epoch: 100, Loss: 0.7316\n"
          ]
        }
      ]
    },
    {
      "cell_type": "code",
      "source": [
        "z = model()"
      ],
      "metadata": {
        "id": "UJ8kvl6pgpnb"
      },
      "execution_count": 13,
      "outputs": []
    },
    {
      "cell_type": "markdown",
      "source": [
        "# visualize node mbedding"
      ],
      "metadata": {
        "id": "bE47mdf86pYG"
      }
    },
    {
      "cell_type": "code",
      "source": [
        "# from tensor to numpy\n",
        "emb_128 = z.detach().cpu().numpy()"
      ],
      "metadata": {
        "id": "0jNHTnnk6tMR"
      },
      "execution_count": 14,
      "outputs": []
    },
    {
      "cell_type": "code",
      "source": [
        "from sklearn.decomposition import PCA\n",
        "# fit and transform using PCA\n",
        "pca = PCA(n_components=2)\n",
        "emb2d = pca.fit_transform(emb_128)\n",
        "\n",
        "\n",
        "plt.title(\"node embedding in 2D\")\n",
        "plt.scatter(emb2d[:,0],emb2d[:,1])\n",
        "plt.show()"
      ],
      "metadata": {
        "colab": {
          "base_uri": "https://localhost:8080/",
          "height": 452
        },
        "id": "ogy8bOsK6uuC",
        "outputId": "6ec36107-420d-4de0-9d64-eec197d63b5f"
      },
      "execution_count": 15,
      "outputs": [
        {
          "output_type": "display_data",
          "data": {
            "text/plain": [
              "<Figure size 640x480 with 1 Axes>"
            ],
            "image/png": "[encoded data removed]"
          },
          "metadata": {}
        }
      ]
    },
    {
      "cell_type": "markdown",
      "source": [
        "# Compute edge embedding using the Node2Vec embedding\n",
        "using concatenate"
      ],
      "metadata": {
        "id": "BJiC1AlP6zob"
      }
    },
    {
      "cell_type": "code",
      "source": [
        "# retrieving train/test edge from the pre-processed data set\n",
        "print(train_e.head(5))\n",
        "X_train = torch.from_numpy(train_e.loc[:, [\"user_id\", \"product_id\"]].values.T)\n",
        "print(X_train[:5])\n",
        "y_train = torch.from_numpy(train_e.loc[:, [\"label\"]].values.T).flatten()\n",
        "print(y_train[:5])\n",
        "\n",
        "print(test_e.head(5))\n",
        "X_test = torch.from_numpy(test_e.loc[:, [\"user_id\", \"product_id\"]].values.T)\n",
        "print(X_test[:5])\n",
        "y_test = torch.from_numpy(test_e.loc[:, [\"label\"]].values.T).flatten()\n",
        "print(y_test[:5])\n",
        "\n",
        "print(emb_128[1])"
      ],
      "metadata": {
        "colab": {
          "base_uri": "https://localhost:8080/"
        },
        "id": "stDZxN8D7Yo3",
        "outputId": "60922851-f1a2-4e74-afad-6f7a7123c391"
      },
      "execution_count": 16,
      "outputs": [
        {
          "output_type": "stream",
          "name": "stdout",
          "text": [
            "   user_id  product_id  label\n",
            "0        1       46149      1\n",
            "1        1       49235      1\n",
            "2        1       32022      0\n",
            "3        1       44593      0\n",
            "4        2       47186      0\n",
            "tensor([[     1,      1,      1,  ..., 206209, 206209, 206209],\n",
            "        [ 46149,  49235,  32022,  ...,  40310,  27857,  46898]])\n",
            "tensor([1, 1, 0, 0, 0])\n",
            "   user_id  product_id  label\n",
            "0        1       35951      1\n",
            "1        1       38928      1\n",
            "2        1       39657      1\n",
            "3        1        1838      0\n",
            "4        1       30792      0\n",
            "tensor([[     1,      1,      1,  ..., 206209, 206209, 206209],\n",
            "        [ 35951,  38928,  39657,  ...,   6567,  28818,  37274]])\n",
            "tensor([1, 1, 1, 0, 0])\n",
            "[ 1.70487225e-01  3.39598864e-01  6.64327517e-02 -2.80383468e-01\n",
            " -1.31279096e-01  1.25192419e-01 -3.26078907e-02  1.45907313e-01\n",
            "  1.26092061e-02 -1.15788750e-01  4.25798520e-02  7.01754587e-04\n",
            " -2.47483160e-02 -1.00171283e-01 -1.35032535e-01  1.66805133e-01\n",
            " -2.85082981e-02  5.38666546e-02 -6.36942312e-02 -1.34197667e-01\n",
            "  1.49596781e-01 -1.48805618e-01 -1.94470733e-01 -9.17507261e-02\n",
            " -1.70332834e-01  6.04948662e-02  5.64284399e-02 -7.17103574e-03\n",
            " -1.50090516e-01 -1.34802228e-02 -1.17978305e-01  9.26797912e-02\n",
            " -2.84102913e-02 -1.57029793e-01 -2.01559141e-01  1.07911371e-01\n",
            " -5.64610995e-02  1.75819457e-01 -1.43805191e-01 -2.48308212e-01\n",
            "  5.19947588e-01 -4.73303944e-02  3.18500064e-02 -9.80815589e-02\n",
            " -5.47992066e-02  5.54739684e-02  4.02991213e-02 -3.07738092e-02\n",
            " -6.79728016e-02  4.51538116e-02 -9.23839286e-02 -2.59110600e-01\n",
            "  1.34703666e-01  1.67999744e-01 -4.06833291e-01 -1.01796724e-01\n",
            " -6.05751164e-02 -1.18785612e-01 -1.40636384e-01 -1.51358411e-01\n",
            " -9.53251198e-02 -2.38529295e-01 -2.37187311e-01 -3.46060395e-01\n",
            " -3.26781243e-01 -8.14857036e-02  2.94664484e-02 -3.82569991e-03\n",
            " -2.85226077e-01  2.88811028e-02  1.59998491e-01  2.57881552e-01\n",
            "  5.05680703e-02 -1.96888074e-02  3.80300432e-02 -1.43767759e-01\n",
            "  1.35187387e-01  1.69000134e-01  4.86761741e-02  9.23712254e-02\n",
            " -2.21442580e-01  5.77756315e-02 -3.75747494e-02  3.35490564e-04\n",
            "  5.72009832e-02 -1.21174869e-03 -2.42779627e-01  1.97398841e-01\n",
            " -9.35755521e-02  2.49364272e-01 -1.82110235e-01  1.28838837e-01\n",
            " -2.92009503e-01  3.18045467e-01 -2.59660691e-01 -9.62281600e-02\n",
            "  2.61507690e-01  1.62048295e-01  3.35952975e-02 -2.83446789e-01\n",
            "  6.39860481e-02 -1.64476246e-01 -1.35870844e-01 -8.96844361e-03\n",
            "  8.15096051e-02 -1.29841492e-01 -1.01078160e-01 -1.27114192e-01\n",
            "  9.30715501e-02 -2.80554332e-02  3.49785149e-01  1.26240581e-01\n",
            " -2.31260538e-01 -2.16818616e-01 -1.39876992e-01  8.72955173e-02\n",
            " -3.93882282e-02  2.99091488e-01  1.17962152e-01 -3.57240951e-03\n",
            " -1.10866033e-01 -3.76210958e-02 -1.24030210e-01 -1.17126063e-01\n",
            " -9.52616185e-02 -2.63651282e-01  7.91309997e-02  1.36378184e-01]\n"
          ]
        }
      ]
    },
    {
      "cell_type": "code",
      "source": [
        "print(X_train.shape, y_train.shape)\n",
        "print(X_test.shape, y_test.shape)"
      ],
      "metadata": {
        "colab": {
          "base_uri": "https://localhost:8080/"
        },
        "id": "Bad4ugpIA-jA",
        "outputId": "44b6f25d-11f0-456e-93fe-836efc5d8aac"
      },
      "execution_count": 17,
      "outputs": [
        {
          "output_type": "stream",
          "name": "stdout",
          "text": [
            "torch.Size([2, 661052]) torch.Size([661052])\n",
            "torch.Size([2, 656406]) torch.Size([656406])\n"
          ]
        }
      ]
    },
    {
      "cell_type": "code",
      "source": [
        "# compute edge embedding\n",
        "# X_train\n",
        "X_train_edge_emb = []\n",
        "for u, v in X_train.t():\n",
        "    X_train_edge_emb.append(np.concatenate((emb_128[u], emb_128[v]), axis=0))\n",
        "\n",
        "# X_test\n",
        "X_test_edge_emb = []\n",
        "for u, v in X_test.t():\n",
        "    X_test_edge_emb.append(np.concatenate((emb_128[u], emb_128[v]), axis=0))"
      ],
      "metadata": {
        "id": "cKsds0x_62mm"
      },
      "execution_count": 18,
      "outputs": []
    },
    {
      "cell_type": "markdown",
      "source": [
        "# link prediction classifier: MLP classifier"
      ],
      "metadata": {
        "id": "K05m5ytJ_6H2"
      }
    },
    {
      "cell_type": "code",
      "source": [
        "from sklearn.neural_network import MLPClassifier\n",
        "mlp_clf = MLPClassifier(random_state=1, max_iter=300).fit(X_train_edge_emb, y_train)\n",
        "y_preds = mlp_clf.predict(X_test_edge_emb)\n",
        "y_preds_proba = mlp_clf.predict_proba(X_test_edge_emb)"
      ],
      "metadata": {
        "id": "8AprW6Dk-vAi"
      },
      "execution_count": 19,
      "outputs": []
    },
    {
      "cell_type": "code",
      "source": [
        "from sklearn.metrics import confusion_matrix\n",
        "from sklearn.metrics import precision_score, recall_score, f1_score, accuracy_score, roc_auc_score\n",
        "print(\"Accuracy: %.3f\"%accuracy_score(y_test, y_preds))\n",
        "print(\"Precision: %.3f\"%precision_score(y_test, y_preds))\n",
        "print(\"Recall: %.3f\"%recall_score(y_test, y_preds))\n",
        "print(\"F1_score: %.3f\"%f1_score(y_test, y_preds))\n",
        "print(\"Auc_roc_score(y_preds): %.3f\"%roc_auc_score(y_test, y_preds))\n",
        "print(\"Auc_roc_score(y_preds_proba): %.3f\"%roc_auc_score(y_test, y_preds_proba[:, 1]))"
      ],
      "metadata": {
        "colab": {
          "base_uri": "https://localhost:8080/"
        },
        "id": "-8H9PGGC__6r",
        "outputId": "166ba1fc-744b-4df7-cbae-2b33ae1aae08"
      },
      "execution_count": 20,
      "outputs": [
        {
          "output_type": "stream",
          "name": "stdout",
          "text": [
            "Accuracy: 0.646\n",
            "Precision: 0.817\n",
            "Recall: 0.377\n",
            "F1_score: 0.516\n",
            "Auc_roc_score(y_preds): 0.646\n",
            "Auc_roc_score(y_preds_proba): 0.726\n"
          ]
        }
      ]
    },
    {
      "cell_type": "code",
      "source": [
        "print(roc_auc_score(y_test, y_preds))\n",
        "print(accuracy_score(y_test, y_preds))"
      ],
      "metadata": {
        "id": "38GXQojKEF7Q",
        "colab": {
          "base_uri": "https://localhost:8080/"
        },
        "outputId": "dc210195-0363-46ec-92c4-c4c76d0d24de"
      },
      "execution_count": 21,
      "outputs": [
        {
          "output_type": "stream",
          "name": "stdout",
          "text": [
            "0.6461839166613346\n",
            "0.6461839166613346\n"
          ]
        }
      ]
    }
  ]
}