{
  "nbformat": 4,
  "nbformat_minor": 0,
  "metadata": {
    "colab": {
      "provenance": []
    },
    "kernelspec": {
      "name": "python3",
      "display_name": "Python 3"
    },
    "language_info": {
      "name": "python"
    },
    "accelerator": "GPU",
    "gpuClass": "standard"
  },
  "cells": [
    {
      "cell_type": "markdown",
      "source": [
        "# Load the Instacart dataset"
      ],
      "metadata": {
        "id": "5eX-QRlp4bRE"
      }
    },
    {
      "cell_type": "code",
      "source": [
        "from google.colab import drive\n",
        "drive.mount('/content/drive/')\n",
        "import os\n",
        "import torch\n",
        "os.environ['TORCH'] = torch.__version__\n",
        "print(torch.__version__)"
      ],
      "metadata": {
        "colab": {
          "base_uri": "https://localhost:8080/"
        },
        "id": "ufa4DPPW4mQD",
        "outputId": "9d3b89e9-949e-49a8-805b-1a4a0b8c2eeb"
      },
      "execution_count": 1,
      "outputs": [
        {
          "output_type": "stream",
          "name": "stdout",
          "text": [
            "Mounted at /content/drive/\n",
            "2.0.0+cu118\n"
          ]
        }
      ]
    },
    {
      "cell_type": "code",
      "source": [
        "%cd /content/drive/MyDrive/Gatech_MSA/CSE6240/\n",
        "!ls"
      ],
      "metadata": {
        "colab": {
          "base_uri": "https://localhost:8080/"
        },
        "id": "7MpvxLqBTzGB",
        "outputId": "2ec883f9-b380-4fdc-a257-c787950bb268"
      },
      "execution_count": 2,
      "outputs": [
        {
          "output_type": "stream",
          "name": "stdout",
          "text": [
            "/content/drive/MyDrive/Gatech_MSA/CSE6240\n",
            " CSE6240-Instarcart-graph-project.gsheet\n",
            "'CSE6240-potential project topic.gdoc'\n",
            "'CSE 6240 - Spring 2023 Schedule and Syllabus.pdf'\n",
            " data\n",
            "'Literature review.gdoc'\n",
            "'node2vec try out.gdoc'\n",
            " notebooks\n",
            "'Project proposal.gdoc'\n",
            "'Proposal Report Rubric - Spring 2023.pdf'\n",
            " saved_model\n",
            "'short note of the meeting Apr 5.gdoc'\n"
          ]
        }
      ]
    },
    {
      "cell_type": "code",
      "source": [
        "!pip install -q torch-scatter -f https://data.pyg.org/whl/torch-${TORCH}.html\n",
        "!pip install -q torch-sparse -f https://data.pyg.org/whl/torch-${TORCH}.html\n",
        "!pip install -q torch-cluster -f https://data.pyg.org/whl/torch-${TORCH}.html\n",
        "!pip install -q git+https://github.com/pyg-team/pytorch_geometric.git"
      ],
      "metadata": {
        "colab": {
          "base_uri": "https://localhost:8080/"
        },
        "id": "NRKxATBI4pFS",
        "outputId": "2a6a07e8-dc75-4ff8-f750-9cd48fb9c5f6"
      },
      "execution_count": 3,
      "outputs": [
        {
          "output_type": "stream",
          "name": "stdout",
          "text": [
            "\u001b[2K     \u001b[90m━━━━━━━━━━━━━━━━━━━━━━━━━━━━━━━━━━━━━━━━\u001b[0m \u001b[32m10.2/10.2 MB\u001b[0m \u001b[31m60.8 MB/s\u001b[0m eta \u001b[36m0:00:00\u001b[0m\n",
            "\u001b[2K     \u001b[90m━━━━━━━━━━━━━━━━━━━━━━━━━━━━━━━━━━━━━━━━\u001b[0m \u001b[32m4.8/4.8 MB\u001b[0m \u001b[31m34.5 MB/s\u001b[0m eta \u001b[36m0:00:00\u001b[0m\n",
            "\u001b[2K     \u001b[90m━━━━━━━━━━━━━━━━━━━━━━━━━━━━━━━━━━━━━━━━\u001b[0m \u001b[32m3.3/3.3 MB\u001b[0m \u001b[31m26.4 MB/s\u001b[0m eta \u001b[36m0:00:00\u001b[0m\n",
            "\u001b[?25h  Installing build dependencies ... \u001b[?25l\u001b[?25hdone\n",
            "  Getting requirements to build wheel ... \u001b[?25l\u001b[?25hdone\n",
            "  Preparing metadata (pyproject.toml) ... \u001b[?25l\u001b[?25hdone\n",
            "  Building wheel for torch_geometric (pyproject.toml) ... \u001b[?25l\u001b[?25hdone\n"
          ]
        }
      ]
    },
    {
      "cell_type": "code",
      "source": [
        "import networkx as nx\n",
        "import torch\n",
        "from torch_geometric.data import Data\n",
        "from torch_geometric.loader import DataLoader\n",
        "import pandas as pd\n",
        "import numpy as np"
      ],
      "metadata": {
        "id": "D5jTRoE_4gaa"
      },
      "execution_count": 4,
      "outputs": []
    },
    {
      "cell_type": "code",
      "source": [
        "train_labels = pd.read_parquet(r'data/graphs/train_labels_neg.parquet')\n",
        "val_labels = pd.read_parquet(r'data/graphs/val_labels_neg.parquet')\n",
        "test_labels = pd.read_parquet(r'data/graphs/test_labels_neg.parquet')\n",
        "\n",
        "train_edges = pd.read_parquet(r'data/graphs/train_edges.parquet')\n",
        "val_edges = pd.read_parquet(r'data/graphs/val_edges.parquet')\n",
        "test_edges = pd.read_parquet(r'data/graphs/test_edges.parquet')"
      ],
      "metadata": {
        "id": "WpBz0Shgws0I"
      },
      "execution_count": 13,
      "outputs": []
    },
    {
      "cell_type": "markdown",
      "source": [
        "preprocessing with enc_user_id"
      ],
      "metadata": {
        "id": "MACy-Dx_vL1l"
      }
    },
    {
      "cell_type": "code",
      "source": [
        "# enc_user_id = user_id + 50000\n",
        "enc_user_id = train_edges[[\"user_id\"]].drop_duplicates().sort_values(\"user_id\").sort_values(\"user_id\").reset_index(drop=True)\n",
        "enc_user_id[\"enc_user_id\"] = enc_user_id[\"user_id\"] + 50000\n",
        "print(enc_user_id.shape)\n",
        "enc_user_id.head()"
      ],
      "metadata": {
        "colab": {
          "base_uri": "https://localhost:8080/",
          "height": 221
        },
        "id": "bxwpT93AvRpc",
        "outputId": "7c616ca2-6a34-4c5e-e548-2d6fc59f4189"
      },
      "execution_count": 10,
      "outputs": [
        {
          "output_type": "stream",
          "name": "stdout",
          "text": [
            "(101696, 2)\n"
          ]
        },
        {
          "output_type": "execute_result",
          "data": {
            "text/plain": [
              "   user_id  enc_user_id\n",
              "0        1        50001\n",
              "1        2        50002\n",
              "2        3        50003\n",
              "3        7        50007\n",
              "4       13        50013"
            ],
            "text/html": [
              "\n",
              "  <div id=\"df-ad11cf05-7ea0-48a2-865a-6e2dc3df3d1b\">\n",
              "    <div class=\"colab-df-container\">\n",
              "      <div>\n",
              "<style scoped>\n",
              "    .dataframe tbody tr th:only-of-type {\n",
              "        vertical-align: middle;\n",
              "    }\n",
              "\n",
              "    .dataframe tbody tr th {\n",
              "        vertical-align: top;\n",
              "    }\n",
              "\n",
              "    .dataframe thead th {\n",
              "        text-align: right;\n",
              "    }\n",
              "</style>\n",
              "<table border=\"1\" class=\"dataframe\">\n",
              "  <thead>\n",
              "    <tr style=\"text-align: right;\">\n",
              "      <th></th>\n",
              "      <th>user_id</th>\n",
              "      <th>enc_user_id</th>\n",
              "    </tr>\n",
              "  </thead>\n",
              "  <tbody>\n",
              "    <tr>\n",
              "      <th>0</th>\n",
              "      <td>1</td>\n",
              "      <td>50001</td>\n",
              "    </tr>\n",
              "    <tr>\n",
              "      <th>1</th>\n",
              "      <td>2</td>\n",
              "      <td>50002</td>\n",
              "    </tr>\n",
              "    <tr>\n",
              "      <th>2</th>\n",
              "      <td>3</td>\n",
              "      <td>50003</td>\n",
              "    </tr>\n",
              "    <tr>\n",
              "      <th>3</th>\n",
              "      <td>7</td>\n",
              "      <td>50007</td>\n",
              "    </tr>\n",
              "    <tr>\n",
              "      <th>4</th>\n",
              "      <td>13</td>\n",
              "      <td>50013</td>\n",
              "    </tr>\n",
              "  </tbody>\n",
              "</table>\n",
              "</div>\n",
              "      <button class=\"colab-df-convert\" onclick=\"convertToInteractive('df-ad11cf05-7ea0-48a2-865a-6e2dc3df3d1b')\"\n",
              "              title=\"Convert this dataframe to an interactive table.\"\n",
              "              style=\"display:none;\">\n",
              "        \n",
              "  <svg xmlns=\"http://www.w3.org/2000/svg\" height=\"24px\"viewBox=\"0 0 24 24\"\n",
              "       width=\"24px\">\n",
              "    <path d=\"M0 0h24v24H0V0z\" fill=\"none\"/>\n",
              "    <path d=\"M18.56 5.44l.94 2.06.94-2.06 2.06-.94-2.06-.94-.94-2.06-.94 2.06-2.06.94zm-11 1L8.5 8.5l.94-2.06 2.06-.94-2.06-.94L8.5 2.5l-.94 2.06-2.06.94zm10 10l.94 2.06.94-2.06 2.06-.94-2.06-.94-.94-2.06-.94 2.06-2.06.94z\"/><path d=\"M17.41 7.96l-1.37-1.37c-.4-.4-.92-.59-1.43-.59-.52 0-1.04.2-1.43.59L10.3 9.45l-7.72 7.72c-.78.78-.78 2.05 0 2.83L4 21.41c.39.39.9.59 1.41.59.51 0 1.02-.2 1.41-.59l7.78-7.78 2.81-2.81c.8-.78.8-2.07 0-2.86zM5.41 20L4 18.59l7.72-7.72 1.47 1.35L5.41 20z\"/>\n",
              "  </svg>\n",
              "      </button>\n",
              "      \n",
              "  <style>\n",
              "    .colab-df-container {\n",
              "      display:flex;\n",
              "      flex-wrap:wrap;\n",
              "      gap: 12px;\n",
              "    }\n",
              "\n",
              "    .colab-df-convert {\n",
              "      background-color: #E8F0FE;\n",
              "      border: none;\n",
              "      border-radius: 50%;\n",
              "      cursor: pointer;\n",
              "      display: none;\n",
              "      fill: #1967D2;\n",
              "      height: 32px;\n",
              "      padding: 0 0 0 0;\n",
              "      width: 32px;\n",
              "    }\n",
              "\n",
              "    .colab-df-convert:hover {\n",
              "      background-color: #E2EBFA;\n",
              "      box-shadow: 0px 1px 2px rgba(60, 64, 67, 0.3), 0px 1px 3px 1px rgba(60, 64, 67, 0.15);\n",
              "      fill: #174EA6;\n",
              "    }\n",
              "\n",
              "    [theme=dark] .colab-df-convert {\n",
              "      background-color: #3B4455;\n",
              "      fill: #D2E3FC;\n",
              "    }\n",
              "\n",
              "    [theme=dark] .colab-df-convert:hover {\n",
              "      background-color: #434B5C;\n",
              "      box-shadow: 0px 1px 3px 1px rgba(0, 0, 0, 0.15);\n",
              "      filter: drop-shadow(0px 1px 2px rgba(0, 0, 0, 0.3));\n",
              "      fill: #FFFFFF;\n",
              "    }\n",
              "  </style>\n",
              "\n",
              "      <script>\n",
              "        const buttonEl =\n",
              "          document.querySelector('#df-ad11cf05-7ea0-48a2-865a-6e2dc3df3d1b button.colab-df-convert');\n",
              "        buttonEl.style.display =\n",
              "          google.colab.kernel.accessAllowed ? 'block' : 'none';\n",
              "\n",
              "        async function convertToInteractive(key) {\n",
              "          const element = document.querySelector('#df-ad11cf05-7ea0-48a2-865a-6e2dc3df3d1b');\n",
              "          const dataTable =\n",
              "            await google.colab.kernel.invokeFunction('convertToInteractive',\n",
              "                                                     [key], {});\n",
              "          if (!dataTable) return;\n",
              "\n",
              "          const docLinkHtml = 'Like what you see? Visit the ' +\n",
              "            '<a target=\"_blank\" href=https://colab.research.google.com/notebooks/data_table.ipynb>data table notebook</a>'\n",
              "            + ' to learn more about interactive tables.';\n",
              "          element.innerHTML = '';\n",
              "          dataTable['output_type'] = 'display_data';\n",
              "          await google.colab.output.renderOutput(dataTable, element);\n",
              "          const docLink = document.createElement('div');\n",
              "          docLink.innerHTML = docLinkHtml;\n",
              "          element.appendChild(docLink);\n",
              "        }\n",
              "      </script>\n",
              "    </div>\n",
              "  </div>\n",
              "  "
            ]
          },
          "metadata": {},
          "execution_count": 10
        }
      ]
    },
    {
      "cell_type": "code",
      "source": [
        "# match the encode_user_id to train_edges\n",
        "enc_user_id_dict = dict(zip(enc_user_id.user_id, enc_user_id.enc_user_id))\n",
        "# encode_user_id\n",
        "train_edges[\"enc_user_id\"] = train_edges[\"user_id\"].map(enc_user_id_dict)\n",
        "val_edges[\"enc_user_id\"] = val_edges[\"user_id\"].map(enc_user_id_dict)\n",
        "test_edges[\"enc_user_id\"] = test_edges[\"user_id\"].map(enc_user_id_dict)\n",
        "train_labels[\"enc_user_id\"] = train_labels[\"user_id\"].map(enc_user_id_dict)\n",
        "val_labels[\"enc_user_id\"] = val_labels[\"user_id\"].map(enc_user_id_dict)\n",
        "test_labels[\"enc_user_id\"] = test_labels[\"user_id\"].map(enc_user_id_dict)"
      ],
      "metadata": {
        "id": "8WEnPt6UwI6K"
      },
      "execution_count": 14,
      "outputs": []
    },
    {
      "cell_type": "code",
      "source": [
        "print(len(train_labels))\n",
        "print(len(val_labels))\n",
        "print(len(test_labels))\n",
        "\n",
        "print(len(train_edges))\n",
        "print(len(val_edges))\n",
        "print(len(test_edges))"
      ],
      "metadata": {
        "colab": {
          "base_uri": "https://localhost:8080/"
        },
        "id": "KcPg9Rriwz12",
        "outputId": "a65c3e4f-cdc4-482f-c05d-ff490af496c3"
      },
      "execution_count": 15,
      "outputs": [
        {
          "output_type": "stream",
          "name": "stdout",
          "text": [
            "661052\n",
            "661678\n",
            "656406\n",
            "8675721\n",
            "9006247\n",
            "9337086\n"
          ]
        }
      ]
    },
    {
      "cell_type": "code",
      "source": [
        "print(train_edges)"
      ],
      "metadata": {
        "colab": {
          "base_uri": "https://localhost:8080/"
        },
        "id": "yOFatBwqwjuU",
        "outputId": "a5faaa3c-6328-4370-a12b-2504321f7239"
      },
      "execution_count": 16,
      "outputs": [
        {
          "output_type": "stream",
          "name": "stdout",
          "text": [
            "         user_id  product_id    weight  enc_user_id\n",
            "0              1         196  0.700000        50001\n",
            "1              1       10258  0.600000        50001\n",
            "2              1       10326  0.100000        50001\n",
            "3              1       12427  0.700000        50001\n",
            "4              1       13032  0.200000        50001\n",
            "...          ...         ...       ...          ...\n",
            "8675716   206209       41665  0.076923       256209\n",
            "8675717   206209       43961  0.153846       256209\n",
            "8675718   206209       44325  0.076923       256209\n",
            "8675719   206209       48697  0.076923       256209\n",
            "8675720   206209       48742  0.076923       256209\n",
            "\n",
            "[8675721 rows x 4 columns]\n"
          ]
        }
      ]
    },
    {
      "cell_type": "code",
      "source": [
        "# # retrive the existing edges for node2vec training\n",
        "# pos_train_edge = train_labels[train_e['label']==1]\n",
        "# pos_val_edge = val_labels[val_e['label']==1]\n",
        "# pos_test_edge = test_label[test_e['label']==1]\n",
        "\n",
        "# #pos_edge = pd.concat([pos_train_edge, pos_val_edge], ignore_index=True)\n",
        "# pos_edge = pos_train_edge\n"
      ],
      "metadata": {
        "id": "cL8KyvAMYM1e"
      },
      "execution_count": 17,
      "outputs": []
    },
    {
      "cell_type": "code",
      "source": [
        "class BipartiteData(Data):\n",
        "    def __init__(self, edge_index=None, x_s=None, x_t=None):\n",
        "        super().__init__()\n",
        "        self.edge_index = edge_index\n",
        "        self.x_s = x_s\n",
        "        self.x_t = x_t\n",
        "    \n",
        "    def __inc__(self, key, value, *args, **kwargs):\n",
        "        if key == 'edge_index':\n",
        "            return torch.tensor([[self.x_s.size(0)], [self.x_t.size(0)]])\n",
        "        else:\n",
        "            return super().__inc__(key, value, *args, **kwargs)"
      ],
      "metadata": {
        "id": "VhEl1vKJ443J"
      },
      "execution_count": 18,
      "outputs": []
    },
    {
      "cell_type": "code",
      "source": [
        "# using total train_edge as training set for Node2vec model\n",
        "pos_edge_idx = train_edges.loc[:, [\"enc_user_id\", \"product_id\"]].to_numpy().T\n",
        "#pos_edge_idx = pos_edge.loc[:, [\"user_id\", \"product_id\"]].to_numpy().T\n",
        "pos_edge_data=BipartiteData(edge_index=pos_edge_idx)\n",
        "\n",
        "# convert the edge_index into tensor\n",
        "pos_edge_data.edge_index = torch.from_numpy(pos_edge_data.edge_index)\n",
        "\n",
        "# append the reverse edges\n",
        "print(pos_edge_data.edge_index)\n",
        "reverse_edge = pos_edge_data.edge_index[[1, 0]]\n",
        "print(reverse_edge)\n",
        "total_train_edge_idx = torch.concat((pos_edge_data.edge_index, reverse_edge), axis=1)\n",
        "print(total_train_edge_idx)"
      ],
      "metadata": {
        "id": "zoVNFY8y5F5f",
        "colab": {
          "base_uri": "https://localhost:8080/"
        },
        "outputId": "111101c3-a506-4890-c087-e272a7f043e7"
      },
      "execution_count": 26,
      "outputs": [
        {
          "output_type": "stream",
          "name": "stdout",
          "text": [
            "tensor([[ 50001,  50001,  50001,  ..., 256209, 256209, 256209],\n",
            "        [   196,  10258,  10326,  ...,  44325,  48697,  48742]])\n",
            "tensor([[   196,  10258,  10326,  ...,  44325,  48697,  48742],\n",
            "        [ 50001,  50001,  50001,  ..., 256209, 256209, 256209]])\n",
            "tensor([[ 50001,  50001,  50001,  ...,  44325,  48697,  48742],\n",
            "        [   196,  10258,  10326,  ..., 256209, 256209, 256209]])\n"
          ]
        }
      ]
    },
    {
      "cell_type": "code",
      "source": [
        "print(total_train_edge_idx)\n",
        "print(total_train_edge_idx.shape)"
      ],
      "metadata": {
        "colab": {
          "base_uri": "https://localhost:8080/"
        },
        "id": "e-3UOMia5fyL",
        "outputId": "9bbb4e6a-4440-46e3-b470-cfaffb78fa45"
      },
      "execution_count": 28,
      "outputs": [
        {
          "output_type": "stream",
          "name": "stdout",
          "text": [
            "tensor([[ 50001,  50001,  50001,  ...,  44325,  48697,  48742],\n",
            "        [   196,  10258,  10326,  ..., 256209, 256209, 256209]])\n",
            "torch.Size([2, 17351442])\n"
          ]
        }
      ]
    },
    {
      "cell_type": "markdown",
      "source": [
        "# Node2Vec embedding"
      ],
      "metadata": {
        "id": "DOwcWyet5vY1"
      }
    },
    {
      "cell_type": "code",
      "source": [
        "# import library\n",
        "from torch_geometric.nn import Node2Vec\n",
        "import torch_geometric.utils\n",
        "import os.path as osp\n",
        "from tqdm.notebook import tqdm\n",
        "import matplotlib.pyplot as plt\n",
        "import numpy as np\n",
        "# check if cuda is available to send the model and tensors to the GPU\n",
        "device = 'cuda' if torch.cuda.is_available() else 'cpu'"
      ],
      "metadata": {
        "id": "SgGd_jU45zsz"
      },
      "execution_count": 29,
      "outputs": []
    },
    {
      "cell_type": "code",
      "source": [
        "# lower p=BFS\n",
        "model = Node2Vec(total_train_edge_idx, embedding_dim=128, walk_length=20,\n",
        "                 context_size=10, walks_per_node=10,\n",
        "                 num_negative_samples=1, p=1, q=2, sparse=True).to(device)\n",
        "\n",
        "loader = model.loader(batch_size=128, shuffle=True, num_workers=2)  # data loader to speed the train \n",
        "optimizer = torch.optim.SparseAdam(list(model.parameters()), lr=0.01)  # initzialize the optimizer "
      ],
      "metadata": {
        "id": "vZNgdIRX5x1s"
      },
      "execution_count": 31,
      "outputs": []
    },
    {
      "cell_type": "code",
      "source": [
        "def train():\n",
        "    model.train() # put model in the train model\n",
        "    total_loss = 0\n",
        "    for pos_rw, neg_rw in loader:\n",
        "        optimizer.zero_grad() # set the gradient to zero\n",
        "        loss = model.loss(pos_rw.to(device), neg_rw.to(device)) # compute the loss for the batch\n",
        "        loss.backward()\n",
        "        optimizer.step() # optimize the parameters\n",
        "        total_loss += loss.item()\n",
        "    return total_loss / len(loader)\n",
        "\n",
        "\n",
        "for epoch in range(1, 101):\n",
        "    loss = train()\n",
        "    if epoch % 10 == 0:\n",
        "        print(f'Epoch: {epoch:02d}, Loss: {loss:.4f}')"
      ],
      "metadata": {
        "colab": {
          "base_uri": "https://localhost:8080/"
        },
        "id": "y9ltRWAg7h6c",
        "outputId": "73ee4e09-69dc-4d91-9c58-2de1f9bfc0a6"
      },
      "execution_count": 32,
      "outputs": [
        {
          "output_type": "stream",
          "name": "stdout",
          "text": [
            "Epoch: 10, Loss: 0.8683\n",
            "Epoch: 20, Loss: 0.8697\n",
            "Epoch: 30, Loss: 0.8698\n",
            "Epoch: 40, Loss: 0.8695\n",
            "Epoch: 50, Loss: 0.8694\n",
            "Epoch: 60, Loss: 0.8693\n",
            "Epoch: 70, Loss: 0.8691\n",
            "Epoch: 80, Loss: 0.8691\n",
            "Epoch: 90, Loss: 0.8691\n",
            "Epoch: 100, Loss: 0.8689\n"
          ]
        }
      ]
    },
    {
      "cell_type": "code",
      "source": [
        "z = model()"
      ],
      "metadata": {
        "id": "UJ8kvl6pgpnb"
      },
      "execution_count": 33,
      "outputs": []
    },
    {
      "cell_type": "code",
      "source": [
        "with open(r\"saved_model/node2vec_128_v2.pkl\", \"wb\") as f:\n",
        "    torch.save(z, f=f)"
      ],
      "metadata": {
        "id": "2kv01xnhWyYx"
      },
      "execution_count": 34,
      "outputs": []
    },
    {
      "cell_type": "code",
      "source": [
        "# test for loading Node2vec embedding\n",
        "with open(r\"saved_model/node2vec_128_v2.pkl\", \"rb\") as f:\n",
        "  z = torch.load(f)"
      ],
      "metadata": {
        "id": "teCOHv1oFBof"
      },
      "execution_count": 35,
      "outputs": []
    },
    {
      "cell_type": "markdown",
      "source": [
        "# visualize node mbedding"
      ],
      "metadata": {
        "id": "bE47mdf86pYG"
      }
    },
    {
      "cell_type": "code",
      "source": [
        "# from tensor to numpy\n",
        "emb_128 = z.detach().cpu().numpy()"
      ],
      "metadata": {
        "id": "0jNHTnnk6tMR"
      },
      "execution_count": 36,
      "outputs": []
    },
    {
      "cell_type": "code",
      "source": [
        "from sklearn.decomposition import PCA\n",
        "# fit and transform using PCA\n",
        "pca = PCA(n_components=2)\n",
        "emb2d = pca.fit_transform(emb_128)\n",
        "\n",
        "\n",
        "plt.title(\"node embedding in 2D\")\n",
        "plt.scatter(emb2d[:,0],emb2d[:,1])\n",
        "plt.show()"
      ],
      "metadata": {
        "id": "ogy8bOsK6uuC",
        "colab": {
          "base_uri": "https://localhost:8080/",
          "height": 452
        },
        "outputId": "6e7d49c2-6d7b-4d7a-e8a0-5a1cecfab911"
      },
      "execution_count": 37,
      "outputs": [
        {
          "output_type": "display_data",
          "data": {
            "text/plain": [
              "<Figure size 640x480 with 1 Axes>"
            ],
            "image/png": "[encoded data removed]"
          },
          "metadata": {}
        }
      ]
    },
    {
      "cell_type": "markdown",
      "source": [
        "# Compute edge embedding using the Node2Vec embedding\n",
        "using concatenate"
      ],
      "metadata": {
        "id": "BJiC1AlP6zob"
      }
    },
    {
      "cell_type": "code",
      "source": [
        "print(train_labels.head(5))"
      ],
      "metadata": {
        "colab": {
          "base_uri": "https://localhost:8080/"
        },
        "id": "nvN_kpBKVUK7",
        "outputId": "09e9622e-3572-4491-c161-0dd47a2eb9db"
      },
      "execution_count": 38,
      "outputs": [
        {
          "output_type": "stream",
          "name": "stdout",
          "text": [
            "   user_id  product_id  label  enc_user_id\n",
            "0        1       46149      1        50001\n",
            "1        1       49235      1        50001\n",
            "2        1       32022      0        50001\n",
            "3        1       44593      0        50001\n",
            "4        2       47186      0        50002\n"
          ]
        }
      ]
    },
    {
      "cell_type": "code",
      "source": [
        "# retrieving train/test edge from the pre-processed data set\n",
        "print(train_labels.head(5))\n",
        "X_train = torch.from_numpy(train_labels.loc[:, [\"enc_user_id\", \"product_id\"]].values.T)\n",
        "print(X_train[:5])\n",
        "y_train = torch.from_numpy(train_labels.loc[:, [\"label\"]].values.T).flatten()\n",
        "print(y_train[:5])\n",
        "\n",
        "print(test_labels.head(5))\n",
        "X_test = torch.from_numpy(test_labels.loc[:, [\"enc_user_id\", \"product_id\"]].values.T)\n",
        "print(X_test[:5])\n",
        "y_test = torch.from_numpy(test_labels.loc[:, [\"label\"]].values.T).flatten()\n",
        "print(y_test[:5])\n",
        "\n",
        "print(emb_128[1])"
      ],
      "metadata": {
        "id": "stDZxN8D7Yo3",
        "colab": {
          "base_uri": "https://localhost:8080/"
        },
        "outputId": "f59821de-3e05-414e-a484-abe3fd1f10a2"
      },
      "execution_count": 39,
      "outputs": [
        {
          "output_type": "stream",
          "name": "stdout",
          "text": [
            "   user_id  product_id  label  enc_user_id\n",
            "0        1       46149      1        50001\n",
            "1        1       49235      1        50001\n",
            "2        1       32022      0        50001\n",
            "3        1       44593      0        50001\n",
            "4        2       47186      0        50002\n",
            "tensor([[ 50001,  50001,  50001,  ..., 256209, 256209, 256209],\n",
            "        [ 46149,  49235,  32022,  ...,  40310,  27857,  46898]])\n",
            "tensor([1, 1, 0, 0, 0])\n",
            "   user_id  product_id  label  enc_user_id\n",
            "0        1       35951      1        50001\n",
            "1        1       38928      1        50001\n",
            "2        1       39657      1        50001\n",
            "3        1        1838      0        50001\n",
            "4        1       30792      0        50001\n",
            "tensor([[ 50001,  50001,  50001,  ..., 256209, 256209, 256209],\n",
            "        [ 35951,  38928,  39657,  ...,   6567,  28818,  37274]])\n",
            "tensor([1, 1, 1, 0, 0])\n",
            "[ 2.12792933e-01  6.97864816e-02  1.66061204e-02 -8.18190426e-02\n",
            "  1.92668363e-01  3.04591268e-01  1.69583336e-01  2.50349909e-01\n",
            " -6.83202446e-02 -5.46933413e-02  1.16022257e-03 -3.28778177e-02\n",
            " -2.95293510e-01  1.62640437e-01  2.55794615e-01  1.21926352e-01\n",
            "  1.13271207e-01 -1.43121392e-01 -1.44673511e-01  2.89210260e-01\n",
            "  6.87940642e-02 -2.03609079e-01 -2.28703871e-01 -5.69033921e-02\n",
            " -1.04641072e-01 -8.34328979e-02 -1.33511141e-01 -1.63108274e-01\n",
            "  2.78412759e-01  3.43760043e-01 -1.94386110e-01 -6.74866199e-01\n",
            " -1.28055781e-01  1.97076932e-01  3.99374962e-01 -9.95164439e-02\n",
            "  2.92196143e-02  9.10295621e-02 -1.49447128e-01 -1.20930284e-01\n",
            " -2.79454142e-01 -1.57529656e-02  3.70854974e-01  1.25619903e-01\n",
            " -7.56203011e-02  1.50057465e-01  4.34085101e-01 -2.96086632e-02\n",
            "  1.86517581e-01 -3.43001306e-01  5.47545515e-02 -1.90699190e-01\n",
            "  1.09206781e-01 -3.57389115e-02  3.69322389e-01  1.91515371e-01\n",
            " -1.98159501e-01 -2.65283966e+00  3.11617136e-01  2.88425326e-01\n",
            "  6.88593164e-02  5.63613027e-02 -1.17163444e-02  4.78459895e-01\n",
            "  1.06719084e-01 -2.09462374e-01  5.76092415e-02 -2.35464603e-01\n",
            " -1.66686893e-01  6.37372881e-02 -7.66422600e-02  4.32033390e-02\n",
            "  9.56208929e-02  1.74425364e-01 -1.83799908e-01  1.23318501e-01\n",
            "  8.38082507e-02 -4.87216264e-02  2.06038117e-01  5.26649803e-02\n",
            " -1.73513457e-01 -6.58961833e-02 -6.03604838e-02 -7.00721592e-02\n",
            "  2.12229311e-01  2.40517825e-01 -1.18200570e-01 -9.71962810e-02\n",
            "  2.93861419e-01  5.84567972e-02 -1.42509207e-01  2.85333872e-01\n",
            "  1.34804785e-01 -1.27830476e-01  3.43230098e-01 -1.60229221e-01\n",
            "  1.02072209e-01 -2.81059947e-02  6.09140098e-02 -1.87631301e-03\n",
            " -2.16740534e-01 -2.92298704e-01  1.31951421e-01 -3.42011303e-01\n",
            "  1.58966053e-02 -1.48387551e-01  4.47207578e-02  1.97605476e-01\n",
            " -4.60190848e-02  2.48170063e-01 -1.04135782e-01  9.26374644e-02\n",
            "  6.37454316e-02  8.01360235e-02 -7.67376870e-02 -2.32647270e-01\n",
            " -5.78693509e-01 -1.96399856e-02 -3.31038713e-01 -1.31207809e-01\n",
            " -1.88112247e+00  1.62452519e-01 -1.63772888e-02 -1.66167781e-01\n",
            " -3.61900069e-02  3.16629976e-01 -1.39941707e-01 -1.51545256e-01]\n"
          ]
        }
      ]
    },
    {
      "cell_type": "code",
      "source": [
        "print(X_train.shape, y_train.shape)\n",
        "print(X_test.shape, y_test.shape)"
      ],
      "metadata": {
        "id": "Bad4ugpIA-jA",
        "colab": {
          "base_uri": "https://localhost:8080/"
        },
        "outputId": "77730751-31a6-4158-e6dd-dac46f0b8d41"
      },
      "execution_count": 40,
      "outputs": [
        {
          "output_type": "stream",
          "name": "stdout",
          "text": [
            "torch.Size([2, 661052]) torch.Size([661052])\n",
            "torch.Size([2, 656406]) torch.Size([656406])\n"
          ]
        }
      ]
    },
    {
      "cell_type": "code",
      "source": [
        "# compute edge embedding\n",
        "# X_train\n",
        "X_train_edge_emb = []\n",
        "for u, v in X_train.t():\n",
        "    X_train_edge_emb.append(np.concatenate((emb_128[u], emb_128[v]), axis=0))\n",
        "\n",
        "# X_test\n",
        "X_test_edge_emb = []\n",
        "for u, v in X_test.t():\n",
        "    X_test_edge_emb.append(np.concatenate((emb_128[u], emb_128[v]), axis=0))"
      ],
      "metadata": {
        "id": "cKsds0x_62mm"
      },
      "execution_count": 41,
      "outputs": []
    },
    {
      "cell_type": "markdown",
      "source": [
        "# link prediction classifier: MLP classifier"
      ],
      "metadata": {
        "id": "K05m5ytJ_6H2"
      }
    },
    {
      "cell_type": "code",
      "source": [
        "from sklearn.neural_network import MLPClassifier\n",
        "mlp_clf = MLPClassifier(random_state=1, max_iter=300).fit(X_train_edge_emb, y_train)\n",
        "y_preds = mlp_clf.predict(X_test_edge_emb)\n",
        "y_preds_proba = mlp_clf.predict_proba(X_test_edge_emb)"
      ],
      "metadata": {
        "id": "8AprW6Dk-vAi"
      },
      "execution_count": 42,
      "outputs": []
    },
    {
      "cell_type": "code",
      "source": [
        "from sklearn.metrics import confusion_matrix\n",
        "from sklearn.metrics import precision_score, recall_score, f1_score, accuracy_score, roc_auc_score\n",
        "print(\"Accuracy: %.3f\"%accuracy_score(y_test, y_preds))\n",
        "print(\"Precision: %.3f\"%precision_score(y_test, y_preds))\n",
        "print(\"Recall: %.3f\"%recall_score(y_test, y_preds))\n",
        "print(\"F1_score: %.3f\"%f1_score(y_test, y_preds))\n",
        "print(\"Auc_roc_score(y_preds): %.3f\"%roc_auc_score(y_test, y_preds))\n",
        "print(\"Auc_roc_score(y_preds_proba): %.3f\"%roc_auc_score(y_test, y_preds_proba[:, 1]))"
      ],
      "metadata": {
        "id": "-8H9PGGC__6r",
        "colab": {
          "base_uri": "https://localhost:8080/"
        },
        "outputId": "d705731a-d8c3-45dd-82ac-0b6bac7aae96"
      },
      "execution_count": 43,
      "outputs": [
        {
          "output_type": "stream",
          "name": "stdout",
          "text": [
            "Accuracy: 0.861\n",
            "Precision: 0.860\n",
            "Recall: 0.864\n",
            "F1_score: 0.862\n",
            "Auc_roc_score(y_preds): 0.861\n",
            "Auc_roc_score(y_preds_proba): 0.935\n"
          ]
        }
      ]
    },
    {
      "cell_type": "code",
      "source": [
        "print(roc_auc_score(y_test, y_preds))\n",
        "print(accuracy_score(y_test, y_preds))"
      ],
      "metadata": {
        "id": "38GXQojKEF7Q",
        "colab": {
          "base_uri": "https://localhost:8080/"
        },
        "outputId": "fdb6e2ac-6f5b-47c2-deca-947bf4fd66f3"
      },
      "execution_count": 44,
      "outputs": [
        {
          "output_type": "stream",
          "name": "stdout",
          "text": [
            "0.861413515415764\n",
            "0.861413515415764\n"
          ]
        }
      ]
    },
    {
      "cell_type": "code",
      "source": [
        "# test for import mlp model\n",
        "import pickle\n",
        "# save\n",
        "with open('saved_model/node2vec_mlp_model.pkl','wb') as f:\n",
        "    pickle.dump(mlp_clf,f)"
      ],
      "metadata": {
        "id": "yb-cDYV1hGHJ"
      },
      "execution_count": 45,
      "outputs": []
    },
    {
      "cell_type": "code",
      "source": [
        "# test for model loading\n",
        "mlp_clf_try = pickle.load(open('saved_model/node2vec_mlp_model.pkl', \"rb\"))\n",
        "y_preds = mlp_clf_try.predict(X_test_edge_emb)\n",
        "y_preds_proba = mlp_clf_try.predict_proba(X_test_edge_emb)"
      ],
      "metadata": {
        "id": "zB5XgobjWWCH"
      },
      "execution_count": 46,
      "outputs": []
    },
    {
      "cell_type": "code",
      "source": [
        "from sklearn.metrics import confusion_matrix\n",
        "from sklearn.metrics import precision_score, recall_score, f1_score, accuracy_score, roc_auc_score\n",
        "print(\"Accuracy: %.3f\"%accuracy_score(y_test, y_preds))\n",
        "print(\"Precision: %.3f\"%precision_score(y_test, y_preds))\n",
        "print(\"Recall: %.3f\"%recall_score(y_test, y_preds))\n",
        "print(\"F1_score: %.3f\"%f1_score(y_test, y_preds))\n",
        "print(\"Auc_roc_score(y_preds): %.3f\"%roc_auc_score(y_test, y_preds))\n",
        "print(\"Auc_roc_score(y_preds_proba): %.3f\"%roc_auc_score(y_test, y_preds_proba[:, 1]))"
      ],
      "metadata": {
        "colab": {
          "base_uri": "https://localhost:8080/"
        },
        "id": "6UHx7FmmWfRR",
        "outputId": "19d5bd66-37fe-4791-ef47-21fd77e2f18a"
      },
      "execution_count": 47,
      "outputs": [
        {
          "output_type": "stream",
          "name": "stdout",
          "text": [
            "Accuracy: 0.861\n",
            "Precision: 0.860\n",
            "Recall: 0.864\n",
            "F1_score: 0.862\n",
            "Auc_roc_score(y_preds): 0.861\n",
            "Auc_roc_score(y_preds_proba): 0.935\n"
          ]
        }
      ]
    },
    {
      "cell_type": "code",
      "source": [],
      "metadata": {
        "id": "KT3TOAFRWhum"
      },
      "execution_count": null,
      "outputs": []
    }
  ]
}