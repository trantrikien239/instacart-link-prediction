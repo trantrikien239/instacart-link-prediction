{
  "nbformat": 4,
  "nbformat_minor": 0,
  "metadata": {
    "colab": {
      "provenance": []
    },
    "kernelspec": {
      "name": "python3",
      "display_name": "Python 3"
    },
    "language_info": {
      "name": "python"
    },
    "gpuClass": "standard"
  },
  "cells": [
    {
      "cell_type": "markdown",
      "source": [
        "# Node2Vec embedding for link prediction\n",
        "\n",
        "1. loading the data with edge_index, train_mask, test_mask\n",
        "\n",
        "2. using Node2vec in torch_geometric to retrieve the emedding for each node\n",
        "https://colab.research.google.com/github/AntonioLonga/PytorchGeometricTutorial/blob/main/Tutorial12/Tutorial12%20Node2Vec%20for%20label%20prediction.ipynb\n",
        "\n",
        "3. produce edge embedding\n",
        "\n",
        "4. Linke prediction classifiers using LogisticRegressionCV\n",
        "https://stellargraph.readthedocs.io/en/stable/demos/link-prediction/node2vec-link-prediction.html\n",
        "\n",
        "Grover, A., & Leskovec, J. (2016, August). node2vec: Scalable feature learning for networks. In Proceedings of the 22nd ACM SIGKDD international conference on Knowledge discovery and data mining (pp. 855-864)."
      ],
      "metadata": {
        "id": "W0wNnqFeaAhl"
      }
    },
    {
      "cell_type": "code",
      "execution_count": 34,
      "metadata": {
        "colab": {
          "base_uri": "https://localhost:8080/"
        },
        "id": "hNYpk8EFxYSo",
        "outputId": "becff070-d8cc-467c-df6b-15be87d3a820"
      },
      "outputs": [
        {
          "output_type": "stream",
          "name": "stdout",
          "text": [
            "2.0.0+cu118\n"
          ]
        }
      ],
      "source": [
        "import os\n",
        "import torch\n",
        "os.environ['TORCH'] = torch.__version__\n",
        "print(torch.__version__)\n"
      ]
    },
    {
      "cell_type": "code",
      "source": [
        "!pip install -q torch-scatter -f https://data.pyg.org/whl/torch-${TORCH}.html\n",
        "!pip install -q torch-sparse -f https://data.pyg.org/whl/torch-${TORCH}.html\n",
        "!pip install -q torch-cluster -f https://data.pyg.org/whl/torch-${TORCH}.html\n",
        "!pip install -q git+https://github.com/pyg-team/pytorch_geometric.git\n",
        "\n",
        "# !pip install -q torch-scatter -f https://data.pyg.org/whl/torch-1.10.0+cu113.html\n",
        "# !pip install -q torch-sparse -f https://data.pyg.org/whl/torch-1.10.0+cu113.html\n",
        "# !pip install -q torch-cluster -f https://data.pyg.org/whl/torch-torch-1.10.0+cu113.html\n",
        "# !pip install -q git+https://github.com/pyg-team/pytorch_geometric.git"
      ],
      "metadata": {
        "colab": {
          "base_uri": "https://localhost:8080/"
        },
        "id": "k07nxLFpEu_p",
        "outputId": "61f0c332-0487-47de-daab-a5f12b9525f8"
      },
      "execution_count": 35,
      "outputs": [
        {
          "output_type": "stream",
          "name": "stdout",
          "text": [
            "  Installing build dependencies ... \u001b[?25l\u001b[?25hdone\n",
            "  Getting requirements to build wheel ... \u001b[?25l\u001b[?25hdone\n",
            "  Preparing metadata (pyproject.toml) ... \u001b[?25l\u001b[?25hdone\n"
          ]
        }
      ]
    },
    {
      "cell_type": "code",
      "source": [
        "# import library\n",
        "from torch_geometric.nn import Node2Vec\n",
        "import torch_geometric.utils\n",
        "import os.path as osp\n",
        "import torch\n",
        "from torch_geometric.datasets import Planetoid\n",
        "from tqdm.notebook import tqdm\n",
        "import matplotlib.pyplot as plt\n",
        "import numpy as np"
      ],
      "metadata": {
        "id": "liXANRqzxpVU"
      },
      "execution_count": 36,
      "outputs": []
    },
    {
      "cell_type": "code",
      "source": [
        "dataset = 'Cora'\n",
        "path = osp.join('.', 'data', dataset)\n",
        "# dowload or load the Cora dataset\n",
        "dataset = Planetoid(path, dataset)  \n",
        "data = dataset[0]\n",
        "\n",
        "# check if cuda is available to send the model and tensors to the GPU\n",
        "device = 'cuda' if torch.cuda.is_available() else 'cpu'"
      ],
      "metadata": {
        "id": "dogwMA9SyYII"
      },
      "execution_count": 37,
      "outputs": []
    },
    {
      "cell_type": "code",
      "source": [
        "print(data)\n",
        "print(data.edge_index)\n",
        "print(data.train_mask)"
      ],
      "metadata": {
        "colab": {
          "base_uri": "https://localhost:8080/"
        },
        "id": "DnpBnsExykHQ",
        "outputId": "b1f34013-bd2b-4ea7-b85c-146b181aafc0"
      },
      "execution_count": 38,
      "outputs": [
        {
          "output_type": "stream",
          "name": "stdout",
          "text": [
            "Data(x=[2708, 1433], edge_index=[2, 10556], y=[2708], train_mask=[2708], val_mask=[2708], test_mask=[2708])\n",
            "tensor([[   0,    0,    0,  ..., 2707, 2707, 2707],\n",
            "        [ 633, 1862, 2582,  ...,  598, 1473, 2706]])\n",
            "tensor([ True,  True,  True,  ..., False, False, False])\n"
          ]
        }
      ]
    },
    {
      "cell_type": "code",
      "source": [
        "print(device)"
      ],
      "metadata": {
        "colab": {
          "base_uri": "https://localhost:8080/"
        },
        "id": "4fBs-RFIylpQ",
        "outputId": "6d7c8c0f-fe08-421c-a231-d14a75a39c0b"
      },
      "execution_count": 39,
      "outputs": [
        {
          "output_type": "stream",
          "name": "stdout",
          "text": [
            "cpu\n"
          ]
        }
      ]
    },
    {
      "cell_type": "markdown",
      "source": [
        "## Generate the Node2Vec embeddings"
      ],
      "metadata": {
        "id": "nvZ3ZXI6LQOL"
      }
    },
    {
      "cell_type": "code",
      "source": [
        "model = Node2Vec(data.edge_index, embedding_dim=128, walk_length=20,\n",
        "                 context_size=10, walks_per_node=10,\n",
        "                 num_negative_samples=1, p=1, q=1, sparse=True).to(device)\n",
        "\n",
        "loader = model.loader(batch_size=128, shuffle=True, num_workers=2)  # data loader to speed the train \n",
        "optimizer = torch.optim.SparseAdam(list(model.parameters()), lr=0.01)  # initzialize the optimizer "
      ],
      "metadata": {
        "id": "Fe58iPvAyn6F"
      },
      "execution_count": 40,
      "outputs": []
    },
    {
      "cell_type": "code",
      "source": [
        "def train():\n",
        "    model.train() # put model in the train model\n",
        "    total_loss = 0\n",
        "    for pos_rw, neg_rw in loader:\n",
        "        optimizer.zero_grad() # set the gradient to zero\n",
        "        loss = model.loss(pos_rw.to(device), neg_rw.to(device)) # compute the loss for the batch\n",
        "        loss.backward()\n",
        "        optimizer.step() # optimize the parameters\n",
        "        total_loss += loss.item()\n",
        "    return total_loss / len(loader)\n",
        "\n",
        "\n",
        "@torch.no_grad()\n",
        "def test():\n",
        "    model.eval()\n",
        "    z = model()\n",
        "    acc = model.test(z[data.train_mask], data.y[data.train_mask],\n",
        "                     z[data.test_mask], data.y[data.test_mask],\n",
        "                     max_iter=10)\n",
        "    return acc\n",
        "\n",
        "\n",
        "for epoch in range(1, 101):\n",
        "    loss = train()\n",
        "    #acc = test()\n",
        "    if epoch % 10 == 0:\n",
        "        print(f'Epoch: {epoch:02d}, Loss: {loss:.4f}')"
      ],
      "metadata": {
        "id": "J27f69u4EeCX",
        "colab": {
          "base_uri": "https://localhost:8080/"
        },
        "outputId": "ffd844cb-1084-4f14-f2bf-7a2defa369ea"
      },
      "execution_count": 41,
      "outputs": [
        {
          "output_type": "stream",
          "name": "stdout",
          "text": [
            "Epoch: 10, Loss: 1.7414\n",
            "Epoch: 20, Loss: 0.9723\n",
            "Epoch: 30, Loss: 0.8709\n",
            "Epoch: 40, Loss: 0.8445\n",
            "Epoch: 50, Loss: 0.8348\n",
            "Epoch: 60, Loss: 0.8299\n",
            "Epoch: 70, Loss: 0.8270\n",
            "Epoch: 80, Loss: 0.8260\n",
            "Epoch: 90, Loss: 0.8259\n",
            "Epoch: 100, Loss: 0.8246\n"
          ]
        }
      ]
    },
    {
      "cell_type": "code",
      "source": [
        "# save all the node embedding after training\n",
        "z = model()"
      ],
      "metadata": {
        "id": "FR0R69fBBsD6"
      },
      "execution_count": 45,
      "outputs": []
    },
    {
      "cell_type": "markdown",
      "source": [
        "## visualize node embedding"
      ],
      "metadata": {
        "id": "28meBoNZDN0P"
      }
    },
    {
      "cell_type": "code",
      "source": [
        "# from tensor to numpy\n",
        "emb_128 = z.detach().cpu().numpy()"
      ],
      "metadata": {
        "id": "JdFnj1niDSta"
      },
      "execution_count": 46,
      "outputs": []
    },
    {
      "cell_type": "code",
      "source": [
        "from sklearn.decomposition import PCA\n",
        "# fit and transform using PCA\n",
        "pca = PCA(n_components=2)\n",
        "emb2d = pca.fit_transform(emb_128)\n",
        "\n",
        "\n",
        "plt.title(\"node embedding in 2D\")\n",
        "plt.scatter(emb2d[:,0],emb2d[:,1])\n",
        "plt.show()"
      ],
      "metadata": {
        "colab": {
          "base_uri": "https://localhost:8080/",
          "height": 452
        },
        "id": "MgMHRtSfDVY2",
        "outputId": "c8061241-b894-479d-f674-3bae54a8d3fd"
      },
      "execution_count": 47,
      "outputs": [
        {
          "output_type": "display_data",
          "data": {
            "text/plain": [
              "<Figure size 640x480 with 1 Axes>"
            ],
            "image/png": "[encoded data removed]"
          },
          "metadata": {}
        }
      ]
    },
    {
      "cell_type": "markdown",
      "source": [
        "# generating X_train/X_test/y_train/y_test with negative sampling"
      ],
      "metadata": {
        "id": "4df1ULJ6OhQz"
      }
    },
    {
      "cell_type": "code",
      "source": [
        "torch.manual_seed(42)\n",
        "train_p, test_p = 0.7, 0.3\n",
        "# Step 1: Find a random permutation order of the links using torch.randperm\n",
        "# Step 2: Assign the first 70% (rounded down) of the links as the training set (X_train), and the remaining 30% as the test (X_test). \n",
        "# Step 3: Create new variables y_train, y_test storing all ones vector corresponding to the number of links in the corresponding set.\n",
        "#         Make sure to put them on the memory of the `device` (default will be cpu but we want everything to be on GPU). \n",
        "\n",
        "# 1. find a random permutation order of the links using torch.randperm\n",
        "num_edge = data.edge_index.shape[1]\n",
        "perm_index = torch.randperm(num_edge)\n",
        "\n",
        "# 2 the first 70% of the links as the training set size and the remain 30% as the testing set\n",
        "import math\n",
        "train_size = math.floor(num_edge * train_p)\n",
        "test_size = num_edge - train_size\n",
        "\n",
        "# store the first 70% edge as train, the remain 30% is test\n",
        "X_pos_train = data.edge_index[:, perm_index[:train_size]]\n",
        "X_pos_test = data.edge_index[:, perm_index[train_size:]]\n",
        "\n",
        "# 3. create all-ones vector correspoinding to the number of links in the corresponding set\n",
        "y_pos_train = torch.ones(train_size, device=device)\n",
        "y_pos_test = torch.ones(test_size, device=device)\n",
        "\n",
        "\n",
        "#########################################"
      ],
      "metadata": {
        "id": "U5Cg4ToDO27j"
      },
      "execution_count": 50,
      "outputs": []
    },
    {
      "cell_type": "code",
      "source": [
        "print(X_pos_train.shape, y_pos_train.shape)\n",
        "print(X_pos_test.shape, y_pos_test.shape)\n",
        "print(X_pos_train)"
      ],
      "metadata": {
        "colab": {
          "base_uri": "https://localhost:8080/"
        },
        "id": "KXe9K8v7O9BZ",
        "outputId": "e1559ae5-89bc-427c-919c-b08e2946a562"
      },
      "execution_count": 51,
      "outputs": [
        {
          "output_type": "stream",
          "name": "stdout",
          "text": [
            "torch.Size([2, 7389]) torch.Size([7389])\n",
            "torch.Size([2, 3167]) torch.Size([3167])\n",
            "tensor([[2109, 1914, 1871,  ..., 2080, 1742, 1498],\n",
            "        [1085, 1464,  228,  ...,  487, 2444, 2025]])\n"
          ]
        }
      ]
    },
    {
      "cell_type": "markdown",
      "source": [
        "## sampling negative links"
      ],
      "metadata": {
        "id": "k8mWTPBsPBs6"
      }
    },
    {
      "cell_type": "code",
      "source": [
        "import random\n",
        "torch.manual_seed(42)\n",
        "random.seed(42)\n",
        "negative_sampling_rate = 1\n",
        "\n",
        "# Step 1: Use torch_geometric.utils.negative_sampling to obtain `negative_sampling_rate` number of negative samples for each positive link in `data.edge_index`.\n",
        "#         Carefully read the documentation and check which arguments you would need to pass and how. \n",
        "# Step 2: Append the first 60% (roudned down) of the non-existing links to the training set (data.train_mask), next 10% (rounded down) to the validation (data.val_mask), \n",
        "#         and the remaining to the test (data.test_mask). Use torch.cat with the correct dimension.\n",
        "# Step 3: Append an all zeros vector to data.train_y, data.val_y, data.test_y corresponding to the number of links newly added to the corresponding set.\n",
        "#         Make sure to match the `device` of the tensor. Use torch.cat with the correct dimension.\n",
        "## write your code below [0.6 points] ## \n",
        "\n",
        "# 1. Use torch_geometric.utils.negative_sampling to obtain `negative_sampling_rate` number of negative samples for each positive link in `data.edge_index`\n",
        "num_nodes = data.num_nodes\n",
        "num_edge = data.edge_index.shape[1]\n",
        "neg_edge_index = torch_geometric.utils.negative_sampling(edge_index=data.edge_index, num_nodes=num_nodes, num_neg_samples=negative_sampling_rate*num_edge)\n",
        "\n",
        "\n",
        "# 2. append the first 70% of the non-existing links to the training set\n",
        "num_neg_edge = neg_edge_index.shape[1]\n",
        "neg_train_size = math.floor(num_neg_edge * train_p)\n",
        "neg_test_size = num_neg_edge - train_size\n",
        "\n",
        "X_neg_train = neg_edge_index[:, :neg_train_size]\n",
        "X_neg_test = neg_test_mask = neg_edge_index[:, neg_train_size:]\n",
        "\n",
        "X_train = torch.cat((X_pos_train, X_neg_train), dim=-1)\n",
        "X_test = torch.cat((X_pos_test, X_neg_test), dim=-1)\n",
        "\n",
        "# 3. Append an all zeros vector to data.train_y, data.val_y, data.test_y corresponding to the number of links newly added to the corresponding set.\n",
        "y_train = torch.cat((y_pos_train, torch.zeros(neg_train_size, device=device)), dim=-1)\n",
        "y_test = torch.cat((y_pos_test, torch.zeros(neg_test_size, device=device)), dim=-1)\n",
        "\n",
        "#########################################"
      ],
      "metadata": {
        "id": "St_4UnCxPBFs"
      },
      "execution_count": 52,
      "outputs": []
    },
    {
      "cell_type": "code",
      "source": [
        "print(X_train.shape, y_train.shape)\n",
        "print(X_test.shape, y_test.shape)\n",
        "print(X_train)"
      ],
      "metadata": {
        "colab": {
          "base_uri": "https://localhost:8080/"
        },
        "id": "il4raeRhPKvR",
        "outputId": "fb7b0acf-4dd9-4c16-cc21-df50fe3c6f05"
      },
      "execution_count": 53,
      "outputs": [
        {
          "output_type": "stream",
          "name": "stdout",
          "text": [
            "torch.Size([2, 14778]) torch.Size([14778])\n",
            "torch.Size([2, 6334]) torch.Size([6334])\n",
            "tensor([[2109, 1914, 1871,  ..., 1175, 1800,  312],\n",
            "        [1085, 1464,  228,  ..., 2148, 1250,  551]])\n"
          ]
        }
      ]
    },
    {
      "cell_type": "markdown",
      "source": [
        "## Compute edge embedding using the Node2Vec embedding"
      ],
      "metadata": {
        "id": "2Tiz02bgVCVV"
      }
    },
    {
      "cell_type": "code",
      "source": [
        "# compute edge embedding\n",
        "# X_train\n",
        "X_train_edge_emb = []\n",
        "for u, v in X_train.t():\n",
        "    X_train_edge_emb.append(np.abs([emb_128[u]-emb_128[v]]))\n",
        "# to make the dimension of X_train from 3D to 2D\n",
        "X_train_edge_emb = np.squeeze(np.array(X_train_edge_emb), axis=1)\n",
        "\n",
        "# X_test\n",
        "X_test_edge_emb = []\n",
        "for u, v in X_test.t():\n",
        "    X_test_edge_emb.append(np.abs([emb_128[u]-emb_128[v]]))\n",
        "# to make the dimension of X_test from 3D to 2D\n",
        "X_test_edge_emb = np.squeeze(np.array(X_test_edge_emb), axis=1)"
      ],
      "metadata": {
        "id": "W5NM2VyGEAe9"
      },
      "execution_count": 76,
      "outputs": []
    },
    {
      "cell_type": "markdown",
      "source": [
        "# link prediction classifier: Logistirc Regression Classifier"
      ],
      "metadata": {
        "id": "HZCHyM_NVvBO"
      }
    },
    {
      "cell_type": "markdown",
      "source": [
        "Build a logistic regression CV"
      ],
      "metadata": {
        "id": "dREm8NgXW1qT"
      }
    },
    {
      "cell_type": "code",
      "source": [
        "from sklearn.linear_model import LogisticRegressionCV\n",
        "lr_clf = LogisticRegressionCV(Cs=10, cv=10, scoring=\"roc_auc\", max_iter=2000)\n",
        "lr_clf.fit(X_train_edge_emb, y_train)"
      ],
      "metadata": {
        "colab": {
          "base_uri": "https://localhost:8080/",
          "height": 74
        },
        "id": "A5CuvE5PL3Lc",
        "outputId": "4af11ce7-61c6-4616-fcb3-c08fa83a60e8"
      },
      "execution_count": 78,
      "outputs": [
        {
          "output_type": "execute_result",
          "data": {
            "text/plain": [
              "LogisticRegressionCV(cv=10, max_iter=2000, scoring='roc_auc')"
            ],
            "text/html": [
              "<style>#sk-container-id-2 {color: black;background-color: white;}#sk-container-id-2 pre{padding: 0;}#sk-container-id-2 div.sk-toggleable {background-color: white;}#sk-container-id-2 label.sk-toggleable__label {cursor: pointer;display: block;width: 100%;margin-bottom: 0;padding: 0.3em;box-sizing: border-box;text-align: center;}#sk-container-id-2 label.sk-toggleable__label-arrow:before {content: \"▸\";float: left;margin-right: 0.25em;color: #696969;}#sk-container-id-2 label.sk-toggleable__label-arrow:hover:before {color: black;}#sk-container-id-2 div.sk-estimator:hover label.sk-toggleable__label-arrow:before {color: black;}#sk-container-id-2 div.sk-toggleable__content {max-height: 0;max-width: 0;overflow: hidden;text-align: left;background-color: #f0f8ff;}#sk-container-id-2 div.sk-toggleable__content pre {margin: 0.2em;color: black;border-radius: 0.25em;background-color: #f0f8ff;}#sk-container-id-2 input.sk-toggleable__control:checked~div.sk-toggleable__content {max-height: 200px;max-width: 100%;overflow: auto;}#sk-container-id-2 input.sk-toggleable__control:checked~label.sk-toggleable__label-arrow:before {content: \"▾\";}#sk-container-id-2 div.sk-estimator input.sk-toggleable__control:checked~label.sk-toggleable__label {background-color: #d4ebff;}#sk-container-id-2 div.sk-label input.sk-toggleable__control:checked~label.sk-toggleable__label {background-color: #d4ebff;}#sk-container-id-2 input.sk-hidden--visually {border: 0;clip: rect(1px 1px 1px 1px);clip: rect(1px, 1px, 1px, 1px);height: 1px;margin: -1px;overflow: hidden;padding: 0;position: absolute;width: 1px;}#sk-container-id-2 div.sk-estimator {font-family: monospace;background-color: #f0f8ff;border: 1px dotted black;border-radius: 0.25em;box-sizing: border-box;margin-bottom: 0.5em;}#sk-container-id-2 div.sk-estimator:hover {background-color: #d4ebff;}#sk-container-id-2 div.sk-parallel-item::after {content: \"\";width: 100%;border-bottom: 1px solid gray;flex-grow: 1;}#sk-container-id-2 div.sk-label:hover label.sk-toggleable__label {background-color: #d4ebff;}#sk-container-id-2 div.sk-serial::before {content: \"\";position: absolute;border-left: 1px solid gray;box-sizing: border-box;top: 0;bottom: 0;left: 50%;z-index: 0;}#sk-container-id-2 div.sk-serial {display: flex;flex-direction: column;align-items: center;background-color: white;padding-right: 0.2em;padding-left: 0.2em;position: relative;}#sk-container-id-2 div.sk-item {position: relative;z-index: 1;}#sk-container-id-2 div.sk-parallel {display: flex;align-items: stretch;justify-content: center;background-color: white;position: relative;}#sk-container-id-2 div.sk-item::before, #sk-container-id-2 div.sk-parallel-item::before {content: \"\";position: absolute;border-left: 1px solid gray;box-sizing: border-box;top: 0;bottom: 0;left: 50%;z-index: -1;}#sk-container-id-2 div.sk-parallel-item {display: flex;flex-direction: column;z-index: 1;position: relative;background-color: white;}#sk-container-id-2 div.sk-parallel-item:first-child::after {align-self: flex-end;width: 50%;}#sk-container-id-2 div.sk-parallel-item:last-child::after {align-self: flex-start;width: 50%;}#sk-container-id-2 div.sk-parallel-item:only-child::after {width: 0;}#sk-container-id-2 div.sk-dashed-wrapped {border: 1px dashed gray;margin: 0 0.4em 0.5em 0.4em;box-sizing: border-box;padding-bottom: 0.4em;background-color: white;}#sk-container-id-2 div.sk-label label {font-family: monospace;font-weight: bold;display: inline-block;line-height: 1.2em;}#sk-container-id-2 div.sk-label-container {text-align: center;}#sk-container-id-2 div.sk-container {/* jupyter's `normalize.less` sets `[hidden] { display: none; }` but bootstrap.min.css set `[hidden] { display: none !important; }` so we also need the `!important` here to be able to override the default hidden behavior on the sphinx rendered scikit-learn.org. See: https://github.com/scikit-learn/scikit-learn/issues/21755 */display: inline-block !important;position: relative;}#sk-container-id-2 div.sk-text-repr-fallback {display: none;}</style><div id=\"sk-container-id-2\" class=\"sk-top-container\"><div class=\"sk-text-repr-fallback\"><pre>LogisticRegressionCV(cv=10, max_iter=2000, scoring=&#x27;roc_auc&#x27;)</pre><b>In a Jupyter environment, please rerun this cell to show the HTML representation or trust the notebook. <br />On GitHub, the HTML representation is unable to render, please try loading this page with nbviewer.org.</b></div><div class=\"sk-container\" hidden><div class=\"sk-item\"><div class=\"sk-estimator sk-toggleable\"><input class=\"sk-toggleable__control sk-hidden--visually\" id=\"sk-estimator-id-2\" type=\"checkbox\" checked><label for=\"sk-estimator-id-2\" class=\"sk-toggleable__label sk-toggleable__label-arrow\">LogisticRegressionCV</label><div class=\"sk-toggleable__content\"><pre>LogisticRegressionCV(cv=10, max_iter=2000, scoring=&#x27;roc_auc&#x27;)</pre></div></div></div></div></div>"
            ]
          },
          "metadata": {},
          "execution_count": 78
        }
      ]
    },
    {
      "cell_type": "markdown",
      "source": [
        "Evaluate the classifiers using prediction"
      ],
      "metadata": {
        "id": "VarQqOjlYh4n"
      }
    },
    {
      "cell_type": "code",
      "source": [
        "from sklearn.metrics import roc_auc_score\n",
        "y_preds = lr_clf.predict(X_test_edge_emb)\n",
        "print(roc_auc_score(y_test, y_preds))"
      ],
      "metadata": {
        "colab": {
          "base_uri": "https://localhost:8080/"
        },
        "id": "gqcFNP6HW4XC",
        "outputId": "8ce2186b-a96d-4953-8fb3-fcee27ce6ea2"
      },
      "execution_count": 89,
      "outputs": [
        {
          "output_type": "stream",
          "name": "stdout",
          "text": [
            "0.923744868961162\n"
          ]
        }
      ]
    }
  ]
}