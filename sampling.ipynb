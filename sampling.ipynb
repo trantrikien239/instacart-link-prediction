{
 "cells": [
  {
   "cell_type": "code",
   "execution_count": 1,
   "metadata": {},
   "outputs": [],
   "source": [
    "import networkx as nx\n",
    "import torch\n",
    "from torch_geometric.data import Data\n",
    "from torch_geometric.loader import DataLoader\n",
    "import pandas as pd\n",
    "\n",
    "from preprocessing.generate_negatives import gen_neg_sample"
   ]
  },
  {
   "cell_type": "code",
   "execution_count": 5,
   "metadata": {},
   "outputs": [],
   "source": [
    "test_edges = pd.read_parquet('data/test_edges.parquet')\n",
    "test_features = pd.read_parquet('data/test_features.parquet')\n",
    "test_labels = pd.read_parquet('data/test_labels.parquet')\n",
    "\n",
    "val_edges = pd.read_parquet('data/val_edges.parquet')\n",
    "val_features = pd.read_parquet('data/val_features.parquet')\n",
    "val_labels = pd.read_parquet('data/val_labels.parquet')\n",
    "\n",
    "train_edges = pd.read_parquet('data/train_edges.parquet')\n",
    "train_features = pd.read_parquet('data/train_features.parquet')\n",
    "train_labels = pd.read_parquet('data/train_labels.parquet')"
   ]
  },
  {
   "cell_type": "code",
   "execution_count": 7,
   "metadata": {},
   "outputs": [
    {
     "name": "stdout",
     "output_type": "stream",
     "text": [
      "test_edges.shape:  (8675721, 3)\n",
      "test_labels.shape:  (330526, 3)\n",
      "hist_purchases.shape:  (9006247, 2)  - Is total:  True\n",
      "test_edges.shape:  (9006247, 3)\n",
      "test_labels.shape:  (367218, 3)\n",
      "hist_purchases.shape:  (9373465, 2)  - Is total:  True\n",
      "test_edges.shape:  (9337086, 3)\n",
      "test_labels.shape:  (328203, 3)\n",
      "hist_purchases.shape:  (9665289, 2)  - Is total:  True\n"
     ]
    }
   ],
   "source": [
    "train_labels_neg = gen_neg_sample(train_edges, train_labels)\n",
    "val_labels_neg = gen_neg_sample(val_edges, val_labels)\n",
    "test_labels_neg = gen_neg_sample(test_edges, test_labels)"
   ]
  },
  {
   "cell_type": "code",
   "execution_count": 10,
   "metadata": {},
   "outputs": [],
   "source": [
    "train_labels_neg.to_csv(\"data/train_labels_neg.csv\", index=None)\n",
    "val_labels_neg.to_csv(\"data/val_labels_neg.csv\", index=None)\n",
    "test_labels_neg.to_csv(\"data/test_labels_neg.csv\", index=None)"
   ]
  },
  {
   "cell_type": "code",
   "execution_count": 7,
   "metadata": {},
   "outputs": [],
   "source": [
    "class BipartiteData(Data):\n",
    "    def __init__(self, edge_index=None, x_s=None, x_t=None):\n",
    "        super().__init__()\n",
    "        self.edge_index = edge_index\n",
    "        self.x_s = x_s\n",
    "        self.x_t = x_t\n",
    "    \n",
    "    def __inc__(self, key, value, *args, **kwargs):\n",
    "        if key == 'edge_index':\n",
    "            return torch.tensor([[self.x_s.size(0)], [self.x_t.size(0)]])\n",
    "        else:\n",
    "            return super().__inc__(key, value, *args, **kwargs)"
   ]
  },
  {
   "cell_type": "code",
   "execution_count": 12,
   "metadata": {},
   "outputs": [],
   "source": [
    "edge_index = test_edges.loc[:, [\"user_id\", \"product_id\"]].to_numpy().T"
   ]
  },
  {
   "cell_type": "code",
   "execution_count": 13,
   "metadata": {},
   "outputs": [],
   "source": [
    "data = BipartiteData(edge_index)"
   ]
  },
  {
   "cell_type": "code",
   "execution_count": null,
   "metadata": {},
   "outputs": [],
   "source": []
  }
 ],
 "metadata": {
  "kernelspec": {
   "display_name": "dl_hw1",
   "language": "python",
   "name": "python3"
  },
  "language_info": {
   "codemirror_mode": {
    "name": "ipython",
    "version": 3
   },
   "file_extension": ".py",
   "mimetype": "text/x-python",
   "name": "python",
   "nbconvert_exporter": "python",
   "pygments_lexer": "ipython3",
   "version": "3.10.9"
  },
  "orig_nbformat": 4
 },
 "nbformat": 4,
 "nbformat_minor": 2
}
